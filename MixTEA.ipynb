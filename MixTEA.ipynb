{
 "cells": [
  {
   "cell_type": "code",
   "execution_count": 1,
   "id": "11707c84",
   "metadata": {
    "collapsed": false,
    "deletable": true,
    "editable": true
   },
   "outputs": [],
   "source": [
    "import time\n",
    "import torch\n",
    "import json\n",
    "import numpy as np\n",
    "from torch.utils.data import DataLoader"
   ]
  },
  {
   "cell_type": "code",
   "execution_count": 2,
   "id": "63afe1c8",
   "metadata": {
    "collapsed": true,
    "deletable": true,
    "editable": true
   },
   "outputs": [],
   "source": [
    "from src.dataset import *\n",
    "from src.utils import *\n",
    "from src.model import KGEncoder"
   ]
  },
  {
   "cell_type": "code",
   "execution_count": 3,
   "id": "3acdbcf2",
   "metadata": {
    "collapsed": false,
    "deletable": true,
    "editable": true
   },
   "outputs": [],
   "source": [
    "current_task = \"en_de_15k\"\n",
    "device = torch.device(\"cuda\" if torch.cuda.is_available() else \"cpu\")\n",
    "with open(f\"args/{current_task}.json\", 'r') as f:\n",
    "    args_dict = json.load(f)\n",
    "    f.close()\n",
    "class ARGs:\n",
    "    def __init__(self, dic):\n",
    "        for k, v in dic.items():\n",
    "            setattr(self, k, v)\n",
    "args = ARGs(args_dict)"
   ]
  },
  {
   "cell_type": "code",
   "execution_count": 4,
   "id": "850a49f7",
   "metadata": {
    "collapsed": false,
    "deletable": true,
    "editable": true
   },
   "outputs": [
    {
     "name": "stdout",
     "output_type": "stream",
     "text": [
      "KG 1 info: #ent. 15000, #rel. 215, #tri. 47676\n",
      "KG 2 info: #ent. 15000, #rel. 131, #tri. 50419\n",
      "\n"
     ]
    }
   ],
   "source": [
    "# load knowledge graph data\n",
    "kgdata = KGData(args.task, args.fold, setting=args.setting)\n",
    "train_pair, valid_pair, test_pair = kgdata.load_pair_data()\n",
    "adj_matrix, r_index, r_val, adj_features, rel_features, rel_features_top, rdict, rel_in, rel_out = kgdata.load_matrix_data()\n",
    "unlabeled_pair = np.concatenate((valid_pair, test_pair), axis=0)\n",
    "unlabeled_pair = copy.deepcopy(unlabeled_pair)\n",
    "unlabeled_s = [e1 for e1, e2 in unlabeled_pair]\n",
    "unlabeled_t = [e2 for e1, e2 in unlabeled_pair]\n",
    "np.random.shuffle(unlabeled_s)\n",
    "np.random.shuffle(unlabeled_t)\n",
    "\n",
    "ent_num = kgdata.ent_num\n",
    "rel_num = kgdata.rel_num\n",
    "triple_num = kgdata.triple_num\n",
    "adj_matrix = sparse_mx_to_torch_sparse_tensor(normalize_adj(adj_matrix)).to(device)\n",
    "rel_in = sparse_mx_to_torch_sparse_tensor(rel_in).to(device)\n",
    "rel_out = sparse_mx_to_torch_sparse_tensor(rel_out).to(device)"
   ]
  },
  {
   "cell_type": "code",
   "execution_count": 5,
   "id": "eb38c869",
   "metadata": {
    "collapsed": false,
    "deletable": true,
    "editable": true
   },
   "outputs": [
    {
     "name": "stdout",
     "output_type": "stream",
     "text": [
      "current seed is set to \u001b[92m42\u001b[0m \n",
      "\n",
      "\n",
      "current device is \u001b[92mcuda\u001b[0m \n",
      "\n"
     ]
    }
   ],
   "source": [
    "# load model/optimizer/loss function\n",
    "set_random_seed(args.seed)\n",
    "device = torch.device(\"cuda\" if torch.cuda.is_available() else \"cpu\")\n",
    "print(f\"\\ncurrent device is \\033[92m{device}\\033[0m \\n\")\n",
    "\n",
    "model = KGEncoder(args, ent_num=ent_num, adj_matrix=adj_matrix, rel_features=(rel_in, rel_out), device=device, name=\"student\")\n",
    "_model = KGEncoder(args, ent_num=ent_num, adj_matrix=adj_matrix, rel_features=(rel_in, rel_out), device=device, name=\"teacher\")\n",
    "model = model.to(device=device)\n",
    "_model = _model.to(device=device)\n",
    "\n",
    "optimizer = torch.optim.Adam(filter(lambda p: p.requires_grad, model.parameters()), lr=args.lr, weight_decay=args.weight_decay)\n",
    "pytorch_total_params = sum(p.numel() for p in model.parameters() if p.requires_grad)\n",
    "train_dataset = Dataset(np.array(train_pair))\n",
    "train_loader = DataLoader(dataset=train_dataset, batch_size=args.batch_size, shuffle=False)\n",
    "unlabeled_dataset = Dataset(np.array(unlabeled_pair))\n",
    "unlabeled_loader = DataLoader(dataset=unlabeled_dataset, batch_size=len(unlabeled_pair), shuffle=False)"
   ]
  },
  {
   "cell_type": "code",
   "execution_count": 6,
   "id": "c8eb1580",
   "metadata": {
    "collapsed": false,
    "deletable": true,
    "editable": true
   },
   "outputs": [
    {
     "name": "stdout",
     "output_type": "stream",
     "text": [
      "--------------------INFO--------------------\n",
      "\n",
      "- current task: \u001b[93men_de_15k\u001b[0m\n",
      "\n",
      "- #entity: \u001b[93m30000\u001b[0m\n",
      "\n",
      "- #relation: \u001b[93m239\u001b[0m\n",
      "\n",
      "- #triple: \u001b[93m172388\u001b[0m\n",
      "\n",
      "- #labeled number: \u001b[93m15000\u001b[0m\n",
      "\n",
      "- #batch size: \u001b[93m5000\u001b[0m\n",
      "\n",
      "- #total params: \u001b[93m7712128\u001b[0m\n",
      "\n",
      "--------------------------------------------\n",
      "\n"
     ]
    }
   ],
   "source": [
    "print(\"--------------------INFO--------------------\\n\")\n",
    "print(f'- current task: \\033[93m{args.task}\\033[0m\\n')\n",
    "print(f'- #entity: \\033[93m{ent_num}\\033[0m\\n')\n",
    "print(f'- #relation: \\033[93m{rel_num}\\033[0m\\n')\n",
    "print(f'- #triple: \\033[93m{triple_num}\\033[0m\\n')\n",
    "print(f'- #labeled number: \\033[93m{len(train_pair)+len(valid_pair)+len(test_pair)}\\033[0m\\n')\n",
    "print(f'- #batch size: \\033[93m{args.batch_size}\\033[0m\\n')\n",
    "print(f'- #total params: \\033[93m{pytorch_total_params}\\033[0m\\n')\n",
    "print(\"--------------------------------------------\\n\")"
   ]
  },
  {
   "cell_type": "code",
   "execution_count": 7,
   "id": "7a9052fd",
   "metadata": {
    "collapsed": true,
    "deletable": true,
    "editable": true
   },
   "outputs": [],
   "source": [
    "def eval_entity_alignment_faiss(Lvec, Rvec, test_num, k, eval_metric, eval_normalize=True):\n",
    "    '''\n",
    "        calculate evaluation metrics: hit@1, hit@k, MRR, Mean etc.\n",
    "        using faiss accelerate alignment inference: https://github.com/facebookresearch/faiss\n",
    "    '''\n",
    "    if eval_normalize:\n",
    "        Lvec = preprocessing.normalize(Lvec)\n",
    "        Rvec = preprocessing.normalize(Rvec)\n",
    "    assert test_num == Lvec.shape[0]\n",
    "    mrr = 0\n",
    "    mean = 0\n",
    "    hit_1_score = 0\n",
    "    hit_k_score = 0\n",
    "    if eval_metric == \"l2\":\n",
    "        index = faiss.IndexFlatL2(Rvec.shape[1]) # create index base with fixed dimension\n",
    "    elif eval_metric == \"inner\":\n",
    "        index = faiss.IndexFlatIP(Rvec.shape[1])\n",
    "    else:\n",
    "        assert ValueError\n",
    "    index.add(np.ascontiguousarray(Rvec)) # add key to index base\n",
    "    del Rvec;\n",
    "    _, I = index.search(np.ascontiguousarray(Lvec), test_num) # search query in index base\n",
    "    for idx in range(Lvec.shape[0]):\n",
    "        rank_index = np.where(I[idx,:]==idx)[0][0]\n",
    "        rank_index += 1\n",
    "        mean += (rank_index)\n",
    "        mrr += 1.0 / (rank_index)\n",
    "        if rank_index <= 1: # hit@1\n",
    "            hit_1_score += 1\n",
    "        if rank_index <= k: # hit@k\n",
    "            hit_k_score += 1\n",
    "    mrr = mrr / test_num\n",
    "    hit_1_score = hit_1_score / test_num\n",
    "    hit_k_score = hit_k_score / test_num\n",
    "    mean = mean / test_num\n",
    "    return hit_1_score, hit_k_score, mrr, mean"
   ]
  },
  {
   "cell_type": "code",
   "execution_count": 8,
   "id": "7a8c2ee4",
   "metadata": {
    "collapsed": false,
    "deletable": true,
    "editable": true
   },
   "outputs": [
    {
     "name": "stdout",
     "output_type": "stream",
     "text": [
      "[generate negative samples...]\n",
      "\n",
      "[validation: epoch: 10, hit@1: 0.85, hit@5: 0.953, mrr is 0.894]\n",
      "\n",
      "[generate negative samples...]\n",
      "\n",
      "[validation: epoch: 20, hit@1: 0.86, hit@5: 0.958, mrr is 0.903]\n",
      "\n",
      "[generate negative samples...]\n",
      "\n",
      "[validation: epoch: 30, hit@1: 0.864, hit@5: 0.959, mrr is 0.905]\n",
      "\n",
      "[generate negative samples...]\n",
      "\n",
      "[validation: epoch: 40, hit@1: 0.863, hit@5: 0.961, mrr is 0.905]\n",
      "\n",
      "[generate negative samples...]\n",
      "\n",
      "[validation: epoch: 50, hit@1: 0.865, hit@5: 0.96, mrr is 0.906]\n",
      "\n",
      "[generate negative samples...]\n",
      "\n",
      "[validation: epoch: 60, hit@1: 0.871, hit@5: 0.959, mrr is 0.91]\n",
      "\n",
      "[generate negative samples...]\n",
      "\n",
      "[validation: epoch: 70, hit@1: 0.864, hit@5: 0.96, mrr is 0.906]\n",
      "\n",
      "[generate negative samples...]\n",
      "\n",
      "[validation: epoch: 80, hit@1: 0.867, hit@5: 0.959, mrr is 0.907]\n",
      "\n",
      "[generate negative samples...]\n",
      "\n",
      "[validation: epoch: 90, hit@1: 0.867, hit@5: 0.959, mrr is 0.907]\n",
      "\n",
      "[generate negative samples...]\n",
      "\n",
      "[validation: epoch: 100, hit@1: 0.865, hit@5: 0.959, mrr is 0.906]\n",
      "\n",
      "[generate negative samples...]\n",
      "\n",
      "[validation: epoch: 110, hit@1: 0.867, hit@5: 0.96, mrr is 0.907]\n",
      "\n"
     ]
    }
   ],
   "source": [
    "# begin training\n",
    "t_total_start = time.time()\n",
    "best_score = 0.0\n",
    "hit1_st = 1.0\n",
    "hit1_ts = 0.0\n",
    "model_path = f\"save/{args.task}\"\n",
    "\n",
    "for e in range(1, args.epoch):\n",
    "    model.train()\n",
    "    _model.train()\n",
    "    global bad_count\n",
    "    align_total_loss = 0.0\n",
    "    pseudo_total_loss = 0.0\n",
    "    t_start = time.time()\n",
    "    adjust_learning_rate(optimizer, e, args.lr)\n",
    "\n",
    "    if e % args.neg_iter == 1:\n",
    "        neg_sample_list = list()\n",
    "\n",
    "    # supervised alignment learning with labeled data\n",
    "    for idx, data in enumerate(train_loader):\n",
    "        model.train()\n",
    "        kg1_align, kg2_align = data\n",
    "        kg1_align, kg2_align = np.array(kg1_align), np.array(kg2_align)\n",
    "        vec = model()\n",
    "        # negtive sampling\n",
    "        if e % args.neg_iter == 1:\n",
    "            neg_left, neg_right = kgdata.negative_sampling(\n",
    "                bsize=len(kg1_align), \n",
    "                kg1_align=kg1_align, \n",
    "                kg2_align=kg2_align, \n",
    "                neg_samples_size=args.neg_samples_size, \n",
    "                target_left=unlabeled_s, \n",
    "                target_right=unlabeled_t, \n",
    "                vec=vec.detach().cpu().numpy(), \n",
    "                e=args.truncated_epsilon\n",
    "            )\n",
    "            neg_sample_list.append([neg_left, neg_right])\n",
    "        else:\n",
    "            neg_left, neg_right = neg_sample_list[idx]\n",
    "        \n",
    "        align_loss = model.alignment_loss(\n",
    "            vec, \n",
    "            kg1_align, \n",
    "            kg2_align, \n",
    "            neg_left, \n",
    "            neg_right, \n",
    "            neg_samples_size=args.neg_samples_size, \n",
    "            neg_margin=args.neg_margin, \n",
    "            dist=args.dist\n",
    "        )\n",
    "        align_total_loss += align_loss\n",
    "    \n",
    "    # pseudo mapping learning with unlabeled data\n",
    "    for _, data in enumerate(unlabeled_loader):\n",
    "        torch.cuda.empty_cache()\n",
    "        kg1_ids, kg2_ids = data\n",
    "        kg1_ids, kg2_ids = np.array(kg1_ids), np.array(kg2_ids)\n",
    "        vec = model()\n",
    "        with torch.no_grad():\n",
    "            _vec = _model()\n",
    "        pseudo_loss = model.pseudo_ce_loss(ent_embedding1=vec[kg1_ids], ent_embedding2=vec[kg2_ids], ent_embedding3=_vec[kg1_ids], ent_embedding4=_vec[kg2_ids], hit1_st=hit1_st, hit1_ts=hit1_ts)\n",
    "        r = args.consistency * sigmoid_rampup(e, args.consistency_rampup)\n",
    "        pseudo_loss = pseudo_loss * r\n",
    "        pseudo_total_loss += pseudo_loss\n",
    "    \n",
    "    # the final objective\n",
    "    if not args.il:\n",
    "        loss = align_total_loss + pseudo_total_loss\n",
    "    else:\n",
    "        loss = align_total_loss\n",
    "    optimizer.zero_grad()\n",
    "    loss.backward()\n",
    "    optimizer.step()\n",
    "    # update teacher model\n",
    "    _model.update(model, epoch=e)\n",
    "\n",
    "    if e >= args.val_start and e % args.val_iter == 0 and args.val:\n",
    "        with torch.no_grad():\n",
    "            model.eval()\n",
    "            vec = model()\n",
    "            vec = vec.detach().cpu().numpy()\n",
    "            if args.record:\n",
    "                Lvec = np.array([vec[e] for e in test_pair[:,0]])\n",
    "                Rvec = np.array([vec[e] for e in test_pair[:,1]])\n",
    "                del vec;\n",
    "                hit1, hitk, mrr, mr = eval_entity_alignment_faiss(Lvec, Rvec, test_num=len(test_pair), k=args.k, eval_metric=args.eval_metric)\n",
    "                print(f\"[test: epoch: {e}, hit@1: {round(hit1, 3)}, hit@{args.k}: {round(hitk, 3)}, mrr is {round(mrr, 3)}]\\n\")\n",
    "                with open(f'result/{args.task}_test.csv', 'a', encoding='utf-8') as file:\n",
    "                    file.write('\\n')\n",
    "                    file.write(f\"{e}, {round(hit1, 3)}, {round(hitk, 3)}, {round(mrr, 3)}, {round(mr, 3)}\")\n",
    "            else:\n",
    "                Lvec = np.array([vec[e] for e in valid_pair[:,0]])\n",
    "                Rvec = np.array([vec[e] for e in valid_pair[:,1]])\n",
    "                del vec;\n",
    "                hit1_st, hitk, mrr, mr = eval_entity_alignment_faiss(Lvec, Rvec, test_num=len(valid_pair), k=args.k, eval_metric=args.eval_metric)\n",
    "                print(f\"[validation: epoch: {e}, hit@1: {round(hit1_st, 3)}, hit@{args.k}: {round(hitk, 3)}, mrr is {round(mrr, 3)}]\\n\")\n",
    "                hit1_ts, _, _, _ = eval_entity_alignment_faiss(Rvec, Lvec, test_num=len(valid_pair), k=args.k, eval_metric=args.eval_metric)\n",
    "                with open(model_path, \"wb\") as f:\n",
    "                    torch.save(model.state_dict(), f)\n",
    "                if hit1_st > best_score:\n",
    "                    bad_count = 0\n",
    "                    best_score = hit1_st\n",
    "                else:\n",
    "                    bad_count = bad_count + 1\n",
    "                if bad_count == args.patience:\n",
    "                    break;"
   ]
  },
  {
   "cell_type": "code",
   "execution_count": 9,
   "id": "5e89c407",
   "metadata": {
    "collapsed": false,
    "deletable": true,
    "editable": true
   },
   "outputs": [
    {
     "name": "stdout",
     "output_type": "stream",
     "text": [
      "+ task: en_de_15k\n",
      "+ Hit@1: \u001b[94m0.725\u001b[0m\n",
      "+ Hit@k: \u001b[94m0.878\u001b[0m\n",
      "+ MRR: \u001b[94m0.792\u001b[0m\n",
      "+ MR: \u001b[94m31.602\u001b[0m\n"
     ]
    }
   ],
   "source": [
    "# test phase\n",
    "total_time = int(time.time()-t_total_start)\n",
    "with torch.no_grad():\n",
    "    with open(model_path, \"rb\") as f:\n",
    "        model.load_state_dict(torch.load(f))\n",
    "model.eval()\n",
    "vec = model()\n",
    "vec = vec.detach().cpu().numpy()\n",
    "Lvec = np.array([vec[e] for e in test_pair[:,0]])\n",
    "Rvec = np.array([vec[e] for e in test_pair[:,1]])\n",
    "del vec;\n",
    "hit1, hitk, mrr, mr = eval_entity_alignment_faiss(Lvec, Rvec, test_num=len(test_pair), k=args.k, eval_metric=args.eval_metric)\n",
    "hit1, hitk, mrr, mr = round(hit1, 3), round(hitk, 3), round(mrr, 3), round(mr, 3)\n",
    "print(f'+ task: {args.task}')\n",
    "print(f'+ Hit@1: \\033[94m{hit1}\\033[0m')\n",
    "print(f'+ Hit@k: \\033[94m{hitk}\\033[0m')\n",
    "print(f'+ MRR: \\033[94m{mrr}\\033[0m')\n",
    "print(f'+ MR: \\033[94m{mr}\\033[0m')"
   ]
  }
 ],
 "metadata": {
  "kernelspec": {
   "display_name": "Python 3",
   "language": "python",
   "name": "python3"
  },
  "language_info": {
   "codemirror_mode": {
    "name": "ipython",
    "version": 3
   },
   "file_extension": ".py",
   "mimetype": "text/x-python",
   "name": "python",
   "nbconvert_exporter": "python",
   "pygments_lexer": "ipython3",
   "version": "3.9.9 (main, Nov 21 2021, 03:23:44) \n[Clang 13.0.0 (clang-1300.0.29.3)]"
  },
  "vscode": {
   "interpreter": {
    "hash": "aee8b7b246df8f9039afb4144a1f6fd8d2ca17a180786b69acc140d282b71a49"
   }
  }
 },
 "nbformat": 4,
 "nbformat_minor": 5
}
